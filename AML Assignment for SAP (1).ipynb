{
 "cells":[
  {
   "cell_type":"markdown",
   "source":[
    "## Student BITS ID: 2020hs70048\n",
    "\n",
    "## Student Name: Anurag Batra"
   ],
   "attachments":{
    
   },
   "metadata":{
    "datalore":{
     "type":"MD",
     "hide_input_from_viewers":false,
     "hide_output_from_viewers":false
    }
   }
  },
  {
   "cell_type":"markdown",
   "source":[
    "# Work to do:\n",
    "\n",
    "The student can choose  any prediction task or clustering (from below) and implement it using Python.  The Student can also choose any dataset from UCI \/ Kaggle or any other public dataset.\n",
    "For example, if you choose a regression task, then the dataset should be such that the regression can be performed on the dataset. The ML algos to be implemented will be linear regression and Random forest regressor. Evaluate the ML algorithms appropriately using any of the evaluation metrics​ learned. Perform hyper-parameter tuning.\n",
    "\n",
    "Restiction: Use only sklearn library for the ML tasks.\n",
    "\n",
    "1. Classification\n",
    "    1.1 Logistic regression\n",
    "    1.2 SVM\n",
    "    1.3 Decision Tree or Random Forest classifier \n",
    "\n",
    "2. Regression\n",
    "    2.1 Linear regression\n",
    "    2.2 Random Forest regression\n",
    "\n",
    "3. Clustering\n",
    "    3.1 kmeans algorithm\n",
    "    3.2 EM algorithm\n",
    "\n",
    "4. For textual data\n",
    "    4.1 NB classifier \n",
    "    4.2 Logistic regression\n",
    "\n",
    "\n",
    "The student is instructed to submit a word document to explain the chosen data and ML algos, explain and justify why one algo works better than the other. Use the experiments to support your argument.\n",
    "\n",
    "Students are instructed to submit ipynb, pdf of the Python implementation and report as a word document.\n"
   ],
   "attachments":{
    
   },
   "metadata":{
    "datalore":{
     "type":"MD",
     "hide_input_from_viewers":false,
     "hide_output_from_viewers":false
    }
   }
  },
  {
   "cell_type":"markdown",
   "source":[
    "## Importing Libraries"
   ],
   "attachments":{
    
   },
   "metadata":{
    "datalore":{
     "type":"MD",
     "hide_input_from_viewers":false,
     "hide_output_from_viewers":false
    }
   }
  },
  {
   "cell_type":"code",
   "source":[
    "import pandas as pd  # data processing\n",
    "import matplotlib.pyplot as plt\n",
    "import seaborn as sns\n",
    "import warnings\n",
    "warnings.filterwarnings('ignore')\n",
    "sns.set(style=\"darkgrid\")"
   ],
   "execution_count":57,
   "outputs":[
    
   ],
   "metadata":{
    "datalore":{
     "type":"CODE",
     "hide_input_from_viewers":false,
     "hide_output_from_viewers":false
    }
   }
  },
  {
   "cell_type":"markdown",
   "source":[
    "# 1. Data Acquisition\n",
    " \n",
    "For the problem identified by you, students have to find the data source themselves from any data source.\n",
    "\n",
    "## 1.1 Download the data directly\n"
   ],
   "attachments":{
    
   },
   "metadata":{
    "datalore":{
     "type":"MD",
     "hide_input_from_viewers":false,
     "hide_output_from_viewers":false
    }
   }
  },
  {
   "cell_type":"code",
   "source":[
    "##---------Type the code below this line------------------##\n",
    "# Took Dataset from https:\/\/www.kaggle.com\/datasets\/blastchar\/telco-customer-churn\n",
    "# urllib.request.urlretrieve(\"url\", 'dataset.csv\") # instead of this directly downloaded and saved Dataset.csv"
   ],
   "execution_count":58,
   "outputs":[
    
   ],
   "metadata":{
    "datalore":{
     "type":"CODE",
     "hide_input_from_viewers":false,
     "hide_output_from_viewers":false
    }
   }
  },
  {
   "cell_type":"markdown",
   "source":[
    "## 1.2 Code for converting the above downloaded data into a dataframe"
   ],
   "attachments":{
    
   },
   "metadata":{
    "datalore":{
     "type":"MD",
     "hide_input_from_viewers":false,
     "hide_output_from_viewers":false
    }
   }
  },
  {
   "cell_type":"code",
   "source":[
    "##---------Type the code below this line------------------##\n",
    "dataset= pd.read_csv('dataset.csv') #importing the dataset"
   ],
   "execution_count":59,
   "outputs":[
    
   ],
   "metadata":{
    "datalore":{
     "type":"CODE",
     "hide_input_from_viewers":false,
     "hide_output_from_viewers":false
    }
   }
  },
  {
   "cell_type":"markdown",
   "source":[
    "## 1.3 Confirm the data has been correctly by displaying the first 5 and last 5 records."
   ],
   "attachments":{
    
   },
   "metadata":{
    "datalore":{
     "type":"MD",
     "hide_input_from_viewers":false,
     "hide_output_from_viewers":false
    }
   }
  },
  {
   "cell_type":"code",
   "source":[
    "##---------Type the code below this line------------------##\n",
    "dataset.head() # returns first 5 colums of rows of table"
   ],
   "execution_count":60,
   "outputs":[
    {
     "data":{
      "text\/html":[
       "<div>\n",
       "<style scoped>\n",
       "    .dataframe tbody tr th:only-of-type {\n",
       "        vertical-align: middle;\n",
       "    }\n",
       "\n",
       "    .dataframe tbody tr th {\n",
       "        vertical-align: top;\n",
       "    }\n",
       "\n",
       "    .dataframe thead th {\n",
       "        text-align: right;\n",
       "    }\n",
       "<\/style>\n",
       "<table border=\"1\" class=\"dataframe\">\n",
       "  <thead>\n",
       "    <tr style=\"text-align: right;\">\n",
       "      <th><\/th>\n",
       "      <th>customerID<\/th>\n",
       "      <th>gender<\/th>\n",
       "      <th>SeniorCitizen<\/th>\n",
       "      <th>Partner<\/th>\n",
       "      <th>Dependents<\/th>\n",
       "      <th>tenure<\/th>\n",
       "      <th>PhoneService<\/th>\n",
       "      <th>MultipleLines<\/th>\n",
       "      <th>InternetService<\/th>\n",
       "      <th>OnlineSecurity<\/th>\n",
       "      <th>...<\/th>\n",
       "      <th>DeviceProtection<\/th>\n",
       "      <th>TechSupport<\/th>\n",
       "      <th>StreamingTV<\/th>\n",
       "      <th>StreamingMovies<\/th>\n",
       "      <th>Contract<\/th>\n",
       "      <th>PaperlessBilling<\/th>\n",
       "      <th>PaymentMethod<\/th>\n",
       "      <th>MonthlyCharges<\/th>\n",
       "      <th>TotalCharges<\/th>\n",
       "      <th>Churn<\/th>\n",
       "    <\/tr>\n",
       "  <\/thead>\n",
       "  <tbody>\n",
       "    <tr>\n",
       "      <th>0<\/th>\n",
       "      <td>7590-VHVEG<\/td>\n",
       "      <td>Female<\/td>\n",
       "      <td>0<\/td>\n",
       "      <td>Yes<\/td>\n",
       "      <td>No<\/td>\n",
       "      <td>1<\/td>\n",
       "      <td>No<\/td>\n",
       "      <td>No phone service<\/td>\n",
       "      <td>DSL<\/td>\n",
       "      <td>No<\/td>\n",
       "      <td>...<\/td>\n",
       "      <td>No<\/td>\n",
       "      <td>No<\/td>\n",
       "      <td>No<\/td>\n",
       "      <td>No<\/td>\n",
       "      <td>Month-to-month<\/td>\n",
       "      <td>Yes<\/td>\n",
       "      <td>Electronic check<\/td>\n",
       "      <td>29.85<\/td>\n",
       "      <td>29.85<\/td>\n",
       "      <td>No<\/td>\n",
       "    <\/tr>\n",
       "    <tr>\n",
       "      <th>1<\/th>\n",
       "      <td>5575-GNVDE<\/td>\n",
       "      <td>Male<\/td>\n",
       "      <td>0<\/td>\n",
       "      <td>No<\/td>\n",
       "      <td>No<\/td>\n",
       "      <td>34<\/td>\n",
       "      <td>Yes<\/td>\n",
       "      <td>No<\/td>\n",
       "      <td>DSL<\/td>\n",
       "      <td>Yes<\/td>\n",
       "      <td>...<\/td>\n",
       "      <td>Yes<\/td>\n",
       "      <td>No<\/td>\n",
       "      <td>No<\/td>\n",
       "      <td>No<\/td>\n",
       "      <td>One year<\/td>\n",
       "      <td>No<\/td>\n",
       "      <td>Mailed check<\/td>\n",
       "      <td>56.95<\/td>\n",
       "      <td>1889.5<\/td>\n",
       "      <td>No<\/td>\n",
       "    <\/tr>\n",
       "    <tr>\n",
       "      <th>2<\/th>\n",
       "      <td>3668-QPYBK<\/td>\n",
       "      <td>Male<\/td>\n",
       "      <td>0<\/td>\n",
       "      <td>No<\/td>\n",
       "      <td>No<\/td>\n",
       "      <td>2<\/td>\n",
       "      <td>Yes<\/td>\n",
       "      <td>No<\/td>\n",
       "      <td>DSL<\/td>\n",
       "      <td>Yes<\/td>\n",
       "      <td>...<\/td>\n",
       "      <td>No<\/td>\n",
       "      <td>No<\/td>\n",
       "      <td>No<\/td>\n",
       "      <td>No<\/td>\n",
       "      <td>Month-to-month<\/td>\n",
       "      <td>Yes<\/td>\n",
       "      <td>Mailed check<\/td>\n",
       "      <td>53.85<\/td>\n",
       "      <td>108.15<\/td>\n",
       "      <td>Yes<\/td>\n",
       "    <\/tr>\n",
       "    <tr>\n",
       "      <th>3<\/th>\n",
       "      <td>7795-CFOCW<\/td>\n",
       "      <td>Male<\/td>\n",
       "      <td>0<\/td>\n",
       "      <td>No<\/td>\n",
       "      <td>No<\/td>\n",
       "      <td>45<\/td>\n",
       "      <td>No<\/td>\n",
       "      <td>No phone service<\/td>\n",
       "      <td>DSL<\/td>\n",
       "      <td>Yes<\/td>\n",
       "      <td>...<\/td>\n",
       "      <td>Yes<\/td>\n",
       "      <td>Yes<\/td>\n",
       "      <td>No<\/td>\n",
       "      <td>No<\/td>\n",
       "      <td>One year<\/td>\n",
       "      <td>No<\/td>\n",
       "      <td>Bank transfer (automatic)<\/td>\n",
       "      <td>42.30<\/td>\n",
       "      <td>1840.75<\/td>\n",
       "      <td>No<\/td>\n",
       "    <\/tr>\n",
       "    <tr>\n",
       "      <th>4<\/th>\n",
       "      <td>9237-HQITU<\/td>\n",
       "      <td>Female<\/td>\n",
       "      <td>0<\/td>\n",
       "      <td>No<\/td>\n",
       "      <td>No<\/td>\n",
       "      <td>2<\/td>\n",
       "      <td>Yes<\/td>\n",
       "      <td>No<\/td>\n",
       "      <td>Fiber optic<\/td>\n",
       "      <td>No<\/td>\n",
       "      <td>...<\/td>\n",
       "      <td>No<\/td>\n",
       "      <td>No<\/td>\n",
       "      <td>No<\/td>\n",
       "      <td>No<\/td>\n",
       "      <td>Month-to-month<\/td>\n",
       "      <td>Yes<\/td>\n",
       "      <td>Electronic check<\/td>\n",
       "      <td>70.70<\/td>\n",
       "      <td>151.65<\/td>\n",
       "      <td>Yes<\/td>\n",
       "    <\/tr>\n",
       "  <\/tbody>\n",
       "<\/table>\n",
       "<p>5 rows × 21 columns<\/p>\n",
       "<\/div>"
      ]
     },
     "metadata":{
      
     },
     "output_type":"display_data"
    }
   ],
   "metadata":{
    "datalore":{
     "type":"CODE",
     "hide_input_from_viewers":false,
     "hide_output_from_viewers":false
    }
   }
  },
  {
   "cell_type":"code",
   "source":[
    "dataset.tail() # returns last 5 colums of rows of table"
   ],
   "execution_count":61,
   "outputs":[
    {
     "data":{
      "text\/html":[
       "<div>\n",
       "<style scoped>\n",
       "    .dataframe tbody tr th:only-of-type {\n",
       "        vertical-align: middle;\n",
       "    }\n",
       "\n",
       "    .dataframe tbody tr th {\n",
       "        vertical-align: top;\n",
       "    }\n",
       "\n",
       "    .dataframe thead th {\n",
       "        text-align: right;\n",
       "    }\n",
       "<\/style>\n",
       "<table border=\"1\" class=\"dataframe\">\n",
       "  <thead>\n",
       "    <tr style=\"text-align: right;\">\n",
       "      <th><\/th>\n",
       "      <th>customerID<\/th>\n",
       "      <th>gender<\/th>\n",
       "      <th>SeniorCitizen<\/th>\n",
       "      <th>Partner<\/th>\n",
       "      <th>Dependents<\/th>\n",
       "      <th>tenure<\/th>\n",
       "      <th>PhoneService<\/th>\n",
       "      <th>MultipleLines<\/th>\n",
       "      <th>InternetService<\/th>\n",
       "      <th>OnlineSecurity<\/th>\n",
       "      <th>...<\/th>\n",
       "      <th>DeviceProtection<\/th>\n",
       "      <th>TechSupport<\/th>\n",
       "      <th>StreamingTV<\/th>\n",
       "      <th>StreamingMovies<\/th>\n",
       "      <th>Contract<\/th>\n",
       "      <th>PaperlessBilling<\/th>\n",
       "      <th>PaymentMethod<\/th>\n",
       "      <th>MonthlyCharges<\/th>\n",
       "      <th>TotalCharges<\/th>\n",
       "      <th>Churn<\/th>\n",
       "    <\/tr>\n",
       "  <\/thead>\n",
       "  <tbody>\n",
       "    <tr>\n",
       "      <th>7038<\/th>\n",
       "      <td>6840-RESVB<\/td>\n",
       "      <td>Male<\/td>\n",
       "      <td>0<\/td>\n",
       "      <td>Yes<\/td>\n",
       "      <td>Yes<\/td>\n",
       "      <td>24<\/td>\n",
       "      <td>Yes<\/td>\n",
       "      <td>Yes<\/td>\n",
       "      <td>DSL<\/td>\n",
       "      <td>Yes<\/td>\n",
       "      <td>...<\/td>\n",
       "      <td>Yes<\/td>\n",
       "      <td>Yes<\/td>\n",
       "      <td>Yes<\/td>\n",
       "      <td>Yes<\/td>\n",
       "      <td>One year<\/td>\n",
       "      <td>Yes<\/td>\n",
       "      <td>Mailed check<\/td>\n",
       "      <td>84.80<\/td>\n",
       "      <td>1990.5<\/td>\n",
       "      <td>No<\/td>\n",
       "    <\/tr>\n",
       "    <tr>\n",
       "      <th>7039<\/th>\n",
       "      <td>2234-XADUH<\/td>\n",
       "      <td>Female<\/td>\n",
       "      <td>0<\/td>\n",
       "      <td>Yes<\/td>\n",
       "      <td>Yes<\/td>\n",
       "      <td>72<\/td>\n",
       "      <td>Yes<\/td>\n",
       "      <td>Yes<\/td>\n",
       "      <td>Fiber optic<\/td>\n",
       "      <td>No<\/td>\n",
       "      <td>...<\/td>\n",
       "      <td>Yes<\/td>\n",
       "      <td>No<\/td>\n",
       "      <td>Yes<\/td>\n",
       "      <td>Yes<\/td>\n",
       "      <td>One year<\/td>\n",
       "      <td>Yes<\/td>\n",
       "      <td>Credit card (automatic)<\/td>\n",
       "      <td>103.20<\/td>\n",
       "      <td>7362.9<\/td>\n",
       "      <td>No<\/td>\n",
       "    <\/tr>\n",
       "    <tr>\n",
       "      <th>7040<\/th>\n",
       "      <td>4801-JZAZL<\/td>\n",
       "      <td>Female<\/td>\n",
       "      <td>0<\/td>\n",
       "      <td>Yes<\/td>\n",
       "      <td>Yes<\/td>\n",
       "      <td>11<\/td>\n",
       "      <td>No<\/td>\n",
       "      <td>No phone service<\/td>\n",
       "      <td>DSL<\/td>\n",
       "      <td>Yes<\/td>\n",
       "      <td>...<\/td>\n",
       "      <td>No<\/td>\n",
       "      <td>No<\/td>\n",
       "      <td>No<\/td>\n",
       "      <td>No<\/td>\n",
       "      <td>Month-to-month<\/td>\n",
       "      <td>Yes<\/td>\n",
       "      <td>Electronic check<\/td>\n",
       "      <td>29.60<\/td>\n",
       "      <td>346.45<\/td>\n",
       "      <td>No<\/td>\n",
       "    <\/tr>\n",
       "    <tr>\n",
       "      <th>7041<\/th>\n",
       "      <td>8361-LTMKD<\/td>\n",
       "      <td>Male<\/td>\n",
       "      <td>1<\/td>\n",
       "      <td>Yes<\/td>\n",
       "      <td>No<\/td>\n",
       "      <td>4<\/td>\n",
       "      <td>Yes<\/td>\n",
       "      <td>Yes<\/td>\n",
       "      <td>Fiber optic<\/td>\n",
       "      <td>No<\/td>\n",
       "      <td>...<\/td>\n",
       "      <td>No<\/td>\n",
       "      <td>No<\/td>\n",
       "      <td>No<\/td>\n",
       "      <td>No<\/td>\n",
       "      <td>Month-to-month<\/td>\n",
       "      <td>Yes<\/td>\n",
       "      <td>Mailed check<\/td>\n",
       "      <td>74.40<\/td>\n",
       "      <td>306.6<\/td>\n",
       "      <td>Yes<\/td>\n",
       "    <\/tr>\n",
       "    <tr>\n",
       "      <th>7042<\/th>\n",
       "      <td>3186-AJIEK<\/td>\n",
       "      <td>Male<\/td>\n",
       "      <td>0<\/td>\n",
       "      <td>No<\/td>\n",
       "      <td>No<\/td>\n",
       "      <td>66<\/td>\n",
       "      <td>Yes<\/td>\n",
       "      <td>No<\/td>\n",
       "      <td>Fiber optic<\/td>\n",
       "      <td>Yes<\/td>\n",
       "      <td>...<\/td>\n",
       "      <td>Yes<\/td>\n",
       "      <td>Yes<\/td>\n",
       "      <td>Yes<\/td>\n",
       "      <td>Yes<\/td>\n",
       "      <td>Two year<\/td>\n",
       "      <td>Yes<\/td>\n",
       "      <td>Bank transfer (automatic)<\/td>\n",
       "      <td>105.65<\/td>\n",
       "      <td>6844.5<\/td>\n",
       "      <td>No<\/td>\n",
       "    <\/tr>\n",
       "  <\/tbody>\n",
       "<\/table>\n",
       "<p>5 rows × 21 columns<\/p>\n",
       "<\/div>"
      ]
     },
     "metadata":{
      
     },
     "output_type":"display_data"
    }
   ],
   "metadata":{
    "datalore":{
     "type":"CODE",
     "hide_input_from_viewers":false,
     "hide_output_from_viewers":false
    }
   }
  },
  {
   "cell_type":"markdown",
   "source":[
    "## 1.4 Display the column headings, statistical information, description and statistical summary of the data."
   ],
   "attachments":{
    
   },
   "metadata":{
    "datalore":{
     "type":"MD",
     "hide_input_from_viewers":false,
     "hide_output_from_viewers":false
    }
   }
  },
  {
   "cell_type":"code",
   "source":[
    "##---------Type the code below this line------------------##\n",
    "dataset.isnull().sum() # To check any empty value in table"
   ],
   "execution_count":62,
   "outputs":[
    {
     "data":{
      "text\/html":[
       
      ]
     },
     "metadata":{
      
     },
     "output_type":"display_data"
    }
   ],
   "metadata":{
    "datalore":{
     "type":"CODE",
     "hide_input_from_viewers":false,
     "hide_output_from_viewers":false
    }
   }
  },
  {
   "cell_type":"code",
   "source":[
    "dataset.info() #information about a DataFrame including the index dtype and columns, non-null values and memory usage"
   ],
   "execution_count":63,
   "outputs":[
    {
     "name":"stdout",
     "text":[
      "<class 'pandas.core.frame.DataFrame'>\n",
      "RangeIndex: 7043 entries, 0 to 7042\n",
      "Data columns (total 21 columns):\n",
      " #   Column            Non-Null Count  Dtype  \n",
      "---  ------            --------------  -----  \n",
      " 0   customerID        7043 non-null   object \n",
      " 1   gender            7043 non-null   object \n",
      " 2   SeniorCitizen     7043 non-null   int64  \n",
      " 3   Partner           7043 non-null   object \n",
      " 4   Dependents        7043 non-null   object \n",
      " 5   tenure            7043 non-null   int64  \n",
      " 6   PhoneService      7043 non-null   object \n",
      " 7   MultipleLines     7043 non-null   object \n",
      " 8   InternetService   7043 non-null   object \n",
      " 9   OnlineSecurity    7043 non-null   object \n",
      " 10  OnlineBackup      7043 non-null   object \n",
      " 11  DeviceProtection  7043 non-null   object \n",
      " 12  TechSupport       7043 non-null   object \n",
      " 13  StreamingTV       7043 non-null   object \n",
      " 14  StreamingMovies   7043 non-null   object \n",
      " 15  Contract          7043 non-null   object \n",
      " 16  PaperlessBilling  7043 non-null   object \n",
      " 17  PaymentMethod     7043 non-null   object \n",
      " 18  MonthlyCharges    7043 non-null   float64\n",
      " 19  TotalCharges      7043 non-null   object \n",
      " 20  Churn             7043 non-null   object \n",
      "dtypes: float64(1), int64(2), object(18)\n",
      "memory usage: 1.1+ MB\n"
     ],
     "output_type":"stream"
    }
   ],
   "metadata":{
    "datalore":{
     "type":"CODE",
     "hide_input_from_viewers":false,
     "hide_output_from_viewers":false
    }
   }
  },
  {
   "cell_type":"markdown",
   "source":[
    "## 1.5 Write your observations from the above. \n",
    "1. Size of the dataset\n",
    "2. What type of data attributes are there?\n",
    "3. Is there any null data that has to be cleaned?"
   ],
   "attachments":{
    
   },
   "metadata":{
    "datalore":{
     "type":"MD",
     "hide_input_from_viewers":false,
     "hide_output_from_viewers":false
    }
   }
  },
  {
   "cell_type":"code",
   "source":[
    "dataset['Churn'].value_counts() #number of yes and no in data."
   ],
   "execution_count":64,
   "outputs":[
    {
     "data":{
      "text\/html":[
       
      ]
     },
     "metadata":{
      
     },
     "output_type":"display_data"
    }
   ],
   "metadata":{
    "datalore":{
     "type":"CODE",
     "hide_input_from_viewers":false,
     "hide_output_from_viewers":false
    }
   }
  },
  {
   "cell_type":"code",
   "source":[
    "# --------------Type the answers below this line--------------\n",
    "print(dataset.shape)\n",
    "print('Dataset has {} number of rows and {} Number of columns'.format ( dataset.shape[0], dataset.shape[1]) )"
   ],
   "execution_count":65,
   "outputs":[
    {
     "name":"stdout",
     "text":[
      "(7043, 21)\n",
      "Dataset has 7043 number of rows and 21 Number of columns\n"
     ],
     "output_type":"stream"
    }
   ],
   "metadata":{
    "datalore":{
     "type":"CODE",
     "hide_input_from_viewers":false,
     "hide_output_from_viewers":false
    }
   }
  },
  {
   "cell_type":"markdown",
   "source":[
    "# 2. Data Preparation"
   ],
   "attachments":{
    
   },
   "metadata":{
    "datalore":{
     "type":"MD",
     "hide_input_from_viewers":false,
     "hide_output_from_viewers":false
    }
   }
  },
  {
   "cell_type":"markdown",
   "source":[
    "## 2.1 Display how many unique values are present in each attribute"
   ],
   "attachments":{
    
   },
   "metadata":{
    "datalore":{
     "type":"MD",
     "hide_input_from_viewers":false,
     "hide_output_from_viewers":false
    }
   }
  },
  {
   "cell_type":"code",
   "source":[
    "##---------Type the code below this line------------------##\n",
    "dataset.describe(include='all').T"
   ],
   "execution_count":66,
   "outputs":[
    {
     "data":{
      "text\/html":[
       "<div>\n",
       "<style scoped>\n",
       "    .dataframe tbody tr th:only-of-type {\n",
       "        vertical-align: middle;\n",
       "    }\n",
       "\n",
       "    .dataframe tbody tr th {\n",
       "        vertical-align: top;\n",
       "    }\n",
       "\n",
       "    .dataframe thead th {\n",
       "        text-align: right;\n",
       "    }\n",
       "<\/style>\n",
       "<table border=\"1\" class=\"dataframe\">\n",
       "  <thead>\n",
       "    <tr style=\"text-align: right;\">\n",
       "      <th><\/th>\n",
       "      <th>count<\/th>\n",
       "      <th>unique<\/th>\n",
       "      <th>top<\/th>\n",
       "      <th>freq<\/th>\n",
       "      <th>mean<\/th>\n",
       "      <th>std<\/th>\n",
       "      <th>min<\/th>\n",
       "      <th>25%<\/th>\n",
       "      <th>50%<\/th>\n",
       "      <th>75%<\/th>\n",
       "      <th>max<\/th>\n",
       "    <\/tr>\n",
       "  <\/thead>\n",
       "  <tbody>\n",
       "    <tr>\n",
       "      <th>customerID<\/th>\n",
       "      <td>7043<\/td>\n",
       "      <td>7043<\/td>\n",
       "      <td>7590-VHVEG<\/td>\n",
       "      <td>1<\/td>\n",
       "      <td>NaN<\/td>\n",
       "      <td>NaN<\/td>\n",
       "      <td>NaN<\/td>\n",
       "      <td>NaN<\/td>\n",
       "      <td>NaN<\/td>\n",
       "      <td>NaN<\/td>\n",
       "      <td>NaN<\/td>\n",
       "    <\/tr>\n",
       "    <tr>\n",
       "      <th>gender<\/th>\n",
       "      <td>7043<\/td>\n",
       "      <td>2<\/td>\n",
       "      <td>Male<\/td>\n",
       "      <td>3555<\/td>\n",
       "      <td>NaN<\/td>\n",
       "      <td>NaN<\/td>\n",
       "      <td>NaN<\/td>\n",
       "      <td>NaN<\/td>\n",
       "      <td>NaN<\/td>\n",
       "      <td>NaN<\/td>\n",
       "      <td>NaN<\/td>\n",
       "    <\/tr>\n",
       "    <tr>\n",
       "      <th>SeniorCitizen<\/th>\n",
       "      <td>7043.0<\/td>\n",
       "      <td>NaN<\/td>\n",
       "      <td>NaN<\/td>\n",
       "      <td>NaN<\/td>\n",
       "      <td>0.162147<\/td>\n",
       "      <td>0.368612<\/td>\n",
       "      <td>0.0<\/td>\n",
       "      <td>0.0<\/td>\n",
       "      <td>0.0<\/td>\n",
       "      <td>0.0<\/td>\n",
       "      <td>1.0<\/td>\n",
       "    <\/tr>\n",
       "    <tr>\n",
       "      <th>Partner<\/th>\n",
       "      <td>7043<\/td>\n",
       "      <td>2<\/td>\n",
       "      <td>No<\/td>\n",
       "      <td>3641<\/td>\n",
       "      <td>NaN<\/td>\n",
       "      <td>NaN<\/td>\n",
       "      <td>NaN<\/td>\n",
       "      <td>NaN<\/td>\n",
       "      <td>NaN<\/td>\n",
       "      <td>NaN<\/td>\n",
       "      <td>NaN<\/td>\n",
       "    <\/tr>\n",
       "    <tr>\n",
       "      <th>Dependents<\/th>\n",
       "      <td>7043<\/td>\n",
       "      <td>2<\/td>\n",
       "      <td>No<\/td>\n",
       "      <td>4933<\/td>\n",
       "      <td>NaN<\/td>\n",
       "      <td>NaN<\/td>\n",
       "      <td>NaN<\/td>\n",
       "      <td>NaN<\/td>\n",
       "      <td>NaN<\/td>\n",
       "      <td>NaN<\/td>\n",
       "      <td>NaN<\/td>\n",
       "    <\/tr>\n",
       "    <tr>\n",
       "      <th>tenure<\/th>\n",
       "      <td>7043.0<\/td>\n",
       "      <td>NaN<\/td>\n",
       "      <td>NaN<\/td>\n",
       "      <td>NaN<\/td>\n",
       "      <td>32.371149<\/td>\n",
       "      <td>24.559481<\/td>\n",
       "      <td>0.0<\/td>\n",
       "      <td>9.0<\/td>\n",
       "      <td>29.0<\/td>\n",
       "      <td>55.0<\/td>\n",
       "      <td>72.0<\/td>\n",
       "    <\/tr>\n",
       "    <tr>\n",
       "      <th>PhoneService<\/th>\n",
       "      <td>7043<\/td>\n",
       "      <td>2<\/td>\n",
       "      <td>Yes<\/td>\n",
       "      <td>6361<\/td>\n",
       "      <td>NaN<\/td>\n",
       "      <td>NaN<\/td>\n",
       "      <td>NaN<\/td>\n",
       "      <td>NaN<\/td>\n",
       "      <td>NaN<\/td>\n",
       "      <td>NaN<\/td>\n",
       "      <td>NaN<\/td>\n",
       "    <\/tr>\n",
       "    <tr>\n",
       "      <th>MultipleLines<\/th>\n",
       "      <td>7043<\/td>\n",
       "      <td>3<\/td>\n",
       "      <td>No<\/td>\n",
       "      <td>3390<\/td>\n",
       "      <td>NaN<\/td>\n",
       "      <td>NaN<\/td>\n",
       "      <td>NaN<\/td>\n",
       "      <td>NaN<\/td>\n",
       "      <td>NaN<\/td>\n",
       "      <td>NaN<\/td>\n",
       "      <td>NaN<\/td>\n",
       "    <\/tr>\n",
       "    <tr>\n",
       "      <th>InternetService<\/th>\n",
       "      <td>7043<\/td>\n",
       "      <td>3<\/td>\n",
       "      <td>Fiber optic<\/td>\n",
       "      <td>3096<\/td>\n",
       "      <td>NaN<\/td>\n",
       "      <td>NaN<\/td>\n",
       "      <td>NaN<\/td>\n",
       "      <td>NaN<\/td>\n",
       "      <td>NaN<\/td>\n",
       "      <td>NaN<\/td>\n",
       "      <td>NaN<\/td>\n",
       "    <\/tr>\n",
       "    <tr>\n",
       "      <th>OnlineSecurity<\/th>\n",
       "      <td>7043<\/td>\n",
       "      <td>3<\/td>\n",
       "      <td>No<\/td>\n",
       "      <td>3498<\/td>\n",
       "      <td>NaN<\/td>\n",
       "      <td>NaN<\/td>\n",
       "      <td>NaN<\/td>\n",
       "      <td>NaN<\/td>\n",
       "      <td>NaN<\/td>\n",
       "      <td>NaN<\/td>\n",
       "      <td>NaN<\/td>\n",
       "    <\/tr>\n",
       "    <tr>\n",
       "      <th>OnlineBackup<\/th>\n",
       "      <td>7043<\/td>\n",
       "      <td>3<\/td>\n",
       "      <td>No<\/td>\n",
       "      <td>3088<\/td>\n",
       "      <td>NaN<\/td>\n",
       "      <td>NaN<\/td>\n",
       "      <td>NaN<\/td>\n",
       "      <td>NaN<\/td>\n",
       "      <td>NaN<\/td>\n",
       "      <td>NaN<\/td>\n",
       "      <td>NaN<\/td>\n",
       "    <\/tr>\n",
       "    <tr>\n",
       "      <th>DeviceProtection<\/th>\n",
       "      <td>7043<\/td>\n",
       "      <td>3<\/td>\n",
       "      <td>No<\/td>\n",
       "      <td>3095<\/td>\n",
       "      <td>NaN<\/td>\n",
       "      <td>NaN<\/td>\n",
       "      <td>NaN<\/td>\n",
       "      <td>NaN<\/td>\n",
       "      <td>NaN<\/td>\n",
       "      <td>NaN<\/td>\n",
       "      <td>NaN<\/td>\n",
       "    <\/tr>\n",
       "    <tr>\n",
       "      <th>TechSupport<\/th>\n",
       "      <td>7043<\/td>\n",
       "      <td>3<\/td>\n",
       "      <td>No<\/td>\n",
       "      <td>3473<\/td>\n",
       "      <td>NaN<\/td>\n",
       "      <td>NaN<\/td>\n",
       "      <td>NaN<\/td>\n",
       "      <td>NaN<\/td>\n",
       "      <td>NaN<\/td>\n",
       "      <td>NaN<\/td>\n",
       "      <td>NaN<\/td>\n",
       "    <\/tr>\n",
       "    <tr>\n",
       "      <th>StreamingTV<\/th>\n",
       "      <td>7043<\/td>\n",
       "      <td>3<\/td>\n",
       "      <td>No<\/td>\n",
       "      <td>2810<\/td>\n",
       "      <td>NaN<\/td>\n",
       "      <td>NaN<\/td>\n",
       "      <td>NaN<\/td>\n",
       "      <td>NaN<\/td>\n",
       "      <td>NaN<\/td>\n",
       "      <td>NaN<\/td>\n",
       "      <td>NaN<\/td>\n",
       "    <\/tr>\n",
       "    <tr>\n",
       "      <th>StreamingMovies<\/th>\n",
       "      <td>7043<\/td>\n",
       "      <td>3<\/td>\n",
       "      <td>No<\/td>\n",
       "      <td>2785<\/td>\n",
       "      <td>NaN<\/td>\n",
       "      <td>NaN<\/td>\n",
       "      <td>NaN<\/td>\n",
       "      <td>NaN<\/td>\n",
       "      <td>NaN<\/td>\n",
       "      <td>NaN<\/td>\n",
       "      <td>NaN<\/td>\n",
       "    <\/tr>\n",
       "    <tr>\n",
       "      <th>Contract<\/th>\n",
       "      <td>7043<\/td>\n",
       "      <td>3<\/td>\n",
       "      <td>Month-to-month<\/td>\n",
       "      <td>3875<\/td>\n",
       "      <td>NaN<\/td>\n",
       "      <td>NaN<\/td>\n",
       "      <td>NaN<\/td>\n",
       "      <td>NaN<\/td>\n",
       "      <td>NaN<\/td>\n",
       "      <td>NaN<\/td>\n",
       "      <td>NaN<\/td>\n",
       "    <\/tr>\n",
       "    <tr>\n",
       "      <th>PaperlessBilling<\/th>\n",
       "      <td>7043<\/td>\n",
       "      <td>2<\/td>\n",
       "      <td>Yes<\/td>\n",
       "      <td>4171<\/td>\n",
       "      <td>NaN<\/td>\n",
       "      <td>NaN<\/td>\n",
       "      <td>NaN<\/td>\n",
       "      <td>NaN<\/td>\n",
       "      <td>NaN<\/td>\n",
       "      <td>NaN<\/td>\n",
       "      <td>NaN<\/td>\n",
       "    <\/tr>\n",
       "    <tr>\n",
       "      <th>PaymentMethod<\/th>\n",
       "      <td>7043<\/td>\n",
       "      <td>4<\/td>\n",
       "      <td>Electronic check<\/td>\n",
       "      <td>2365<\/td>\n",
       "      <td>NaN<\/td>\n",
       "      <td>NaN<\/td>\n",
       "      <td>NaN<\/td>\n",
       "      <td>NaN<\/td>\n",
       "      <td>NaN<\/td>\n",
       "      <td>NaN<\/td>\n",
       "      <td>NaN<\/td>\n",
       "    <\/tr>\n",
       "    <tr>\n",
       "      <th>MonthlyCharges<\/th>\n",
       "      <td>7043.0<\/td>\n",
       "      <td>NaN<\/td>\n",
       "      <td>NaN<\/td>\n",
       "      <td>NaN<\/td>\n",
       "      <td>64.761692<\/td>\n",
       "      <td>30.090047<\/td>\n",
       "      <td>18.25<\/td>\n",
       "      <td>35.5<\/td>\n",
       "      <td>70.35<\/td>\n",
       "      <td>89.85<\/td>\n",
       "      <td>118.75<\/td>\n",
       "    <\/tr>\n",
       "    <tr>\n",
       "      <th>TotalCharges<\/th>\n",
       "      <td>7043<\/td>\n",
       "      <td>6531<\/td>\n",
       "      <td><\/td>\n",
       "      <td>11<\/td>\n",
       "      <td>NaN<\/td>\n",
       "      <td>NaN<\/td>\n",
       "      <td>NaN<\/td>\n",
       "      <td>NaN<\/td>\n",
       "      <td>NaN<\/td>\n",
       "      <td>NaN<\/td>\n",
       "      <td>NaN<\/td>\n",
       "    <\/tr>\n",
       "    <tr>\n",
       "      <th>Churn<\/th>\n",
       "      <td>7043<\/td>\n",
       "      <td>2<\/td>\n",
       "      <td>No<\/td>\n",
       "      <td>5174<\/td>\n",
       "      <td>NaN<\/td>\n",
       "      <td>NaN<\/td>\n",
       "      <td>NaN<\/td>\n",
       "      <td>NaN<\/td>\n",
       "      <td>NaN<\/td>\n",
       "      <td>NaN<\/td>\n",
       "      <td>NaN<\/td>\n",
       "    <\/tr>\n",
       "  <\/tbody>\n",
       "<\/table>\n",
       "<\/div>"
      ]
     },
     "metadata":{
      
     },
     "output_type":"display_data"
    }
   ],
   "metadata":{
    "datalore":{
     "type":"CODE",
     "hide_input_from_viewers":false,
     "hide_output_from_viewers":false
    }
   }
  },
  {
   "cell_type":"markdown",
   "source":[
    "## 2.2 Check for the presence of duplicate data, identify the attributes with duplicate data, report the attributes. Mention the method adopted to remove duplicate data if present. Report the results again."
   ],
   "attachments":{
    
   },
   "metadata":{
    "datalore":{
     "type":"MD",
     "hide_input_from_viewers":false,
     "hide_output_from_viewers":false
    }
   }
  },
  {
   "cell_type":"code",
   "source":[
    "##---------Type the code below this line------------------##\n",
    "dataset.duplicated() # To chech for duplicate data"
   ],
   "execution_count":67,
   "outputs":[
    {
     "data":{
      "text\/html":[
       
      ]
     },
     "metadata":{
      
     },
     "output_type":"display_data"
    }
   ],
   "metadata":{
    "datalore":{
     "type":"CODE",
     "hide_input_from_viewers":false,
     "hide_output_from_viewers":false
    }
   }
  },
  {
   "cell_type":"markdown",
   "source":[
    "## 2.3 Show whether there are any missing values in each attribute. Report the same. Clean the missing data using any imputation technique, mention the method used and again report the change after cleaning the data."
   ],
   "attachments":{
    
   },
   "metadata":{
    "datalore":{
     "type":"MD",
     "hide_input_from_viewers":false,
     "hide_output_from_viewers":false
    }
   }
  },
  {
   "cell_type":"code",
   "source":[
    "##---------Type the code below this line------------------##\n",
    "dataset.TotalCharges = pd.to_numeric(dataset.TotalCharges, errors='coerce') #If 'coerce', then invalid parsing will be set as NaN."
   ],
   "execution_count":68,
   "outputs":[
    
   ],
   "metadata":{
    "datalore":{
     "type":"CODE",
     "hide_input_from_viewers":false,
     "hide_output_from_viewers":false
    }
   }
  },
  {
   "cell_type":"code",
   "source":[
    "dataset.info() # To check if it has been converted to float"
   ],
   "execution_count":69,
   "outputs":[
    {
     "name":"stdout",
     "text":[
      "<class 'pandas.core.frame.DataFrame'>\n",
      "RangeIndex: 7043 entries, 0 to 7042\n",
      "Data columns (total 21 columns):\n",
      " #   Column            Non-Null Count  Dtype  \n",
      "---  ------            --------------  -----  \n",
      " 0   customerID        7043 non-null   object \n",
      " 1   gender            7043 non-null   object \n",
      " 2   SeniorCitizen     7043 non-null   int64  \n",
      " 3   Partner           7043 non-null   object \n",
      " 4   Dependents        7043 non-null   object \n",
      " 5   tenure            7043 non-null   int64  \n",
      " 6   PhoneService      7043 non-null   object \n",
      " 7   MultipleLines     7043 non-null   object \n",
      " 8   InternetService   7043 non-null   object \n",
      " 9   OnlineSecurity    7043 non-null   object \n",
      " 10  OnlineBackup      7043 non-null   object \n",
      " 11  DeviceProtection  7043 non-null   object \n",
      " 12  TechSupport       7043 non-null   object \n",
      " 13  StreamingTV       7043 non-null   object \n",
      " 14  StreamingMovies   7043 non-null   object \n",
      " 15  Contract          7043 non-null   object \n",
      " 16  PaperlessBilling  7043 non-null   object \n",
      " 17  PaymentMethod     7043 non-null   object \n",
      " 18  MonthlyCharges    7043 non-null   float64\n",
      " 19  TotalCharges      7032 non-null   float64\n",
      " 20  Churn             7043 non-null   object \n",
      "dtypes: float64(2), int64(2), object(17)\n",
      "memory usage: 1.1+ MB\n"
     ],
     "output_type":"stream"
    }
   ],
   "metadata":{
    "datalore":{
     "type":"CODE",
     "hide_input_from_viewers":false,
     "hide_output_from_viewers":false
    }
   }
  },
  {
   "cell_type":"code",
   "source":[
    "dataset.isnull().sum() # To check any empty value in table"
   ],
   "execution_count":70,
   "outputs":[
    {
     "data":{
      "text\/html":[
       
      ]
     },
     "metadata":{
      
     },
     "output_type":"display_data"
    }
   ],
   "metadata":{
    "datalore":{
     "type":"CODE",
     "hide_input_from_viewers":false,
     "hide_output_from_viewers":false
    }
   }
  },
  {
   "cell_type":"markdown",
   "source":[
    "## 2.4 Check if all the attributes are following the same format and are consistent. If not, report all such attributes and what inconsistencies are present. Correct the data if there are inconsistencies. Report or print the data after correction."
   ],
   "attachments":{
    
   },
   "metadata":{
    "datalore":{
     "type":"MD",
     "hide_input_from_viewers":false,
     "hide_output_from_viewers":false
    }
   }
  },
  {
   "cell_type":"code",
   "source":[
    "##---------Type the code below this line------------------##\n",
    "\n",
    "total_charges_median = dataset.TotalCharges.median() #To find the median of the column \n",
    "dataset['TotalCharges'].fillna(total_charges_median, inplace=True) #Repalcing the missing data by the median\n",
    "\n",
    "dataset = dataset.drop('customerID', axis=1) #drop axis 1 as array starts with 0 in python 3\n",
    "dataset.head(5)"
   ],
   "execution_count":71,
   "outputs":[
    {
     "data":{
      "text\/html":[
       "<div>\n",
       "<style scoped>\n",
       "    .dataframe tbody tr th:only-of-type {\n",
       "        vertical-align: middle;\n",
       "    }\n",
       "\n",
       "    .dataframe tbody tr th {\n",
       "        vertical-align: top;\n",
       "    }\n",
       "\n",
       "    .dataframe thead th {\n",
       "        text-align: right;\n",
       "    }\n",
       "<\/style>\n",
       "<table border=\"1\" class=\"dataframe\">\n",
       "  <thead>\n",
       "    <tr style=\"text-align: right;\">\n",
       "      <th><\/th>\n",
       "      <th>gender<\/th>\n",
       "      <th>SeniorCitizen<\/th>\n",
       "      <th>Partner<\/th>\n",
       "      <th>Dependents<\/th>\n",
       "      <th>tenure<\/th>\n",
       "      <th>PhoneService<\/th>\n",
       "      <th>MultipleLines<\/th>\n",
       "      <th>InternetService<\/th>\n",
       "      <th>OnlineSecurity<\/th>\n",
       "      <th>OnlineBackup<\/th>\n",
       "      <th>DeviceProtection<\/th>\n",
       "      <th>TechSupport<\/th>\n",
       "      <th>StreamingTV<\/th>\n",
       "      <th>StreamingMovies<\/th>\n",
       "      <th>Contract<\/th>\n",
       "      <th>PaperlessBilling<\/th>\n",
       "      <th>PaymentMethod<\/th>\n",
       "      <th>MonthlyCharges<\/th>\n",
       "      <th>TotalCharges<\/th>\n",
       "      <th>Churn<\/th>\n",
       "    <\/tr>\n",
       "  <\/thead>\n",
       "  <tbody>\n",
       "    <tr>\n",
       "      <th>0<\/th>\n",
       "      <td>Female<\/td>\n",
       "      <td>0<\/td>\n",
       "      <td>Yes<\/td>\n",
       "      <td>No<\/td>\n",
       "      <td>1<\/td>\n",
       "      <td>No<\/td>\n",
       "      <td>No phone service<\/td>\n",
       "      <td>DSL<\/td>\n",
       "      <td>No<\/td>\n",
       "      <td>Yes<\/td>\n",
       "      <td>No<\/td>\n",
       "      <td>No<\/td>\n",
       "      <td>No<\/td>\n",
       "      <td>No<\/td>\n",
       "      <td>Month-to-month<\/td>\n",
       "      <td>Yes<\/td>\n",
       "      <td>Electronic check<\/td>\n",
       "      <td>29.85<\/td>\n",
       "      <td>29.85<\/td>\n",
       "      <td>No<\/td>\n",
       "    <\/tr>\n",
       "    <tr>\n",
       "      <th>1<\/th>\n",
       "      <td>Male<\/td>\n",
       "      <td>0<\/td>\n",
       "      <td>No<\/td>\n",
       "      <td>No<\/td>\n",
       "      <td>34<\/td>\n",
       "      <td>Yes<\/td>\n",
       "      <td>No<\/td>\n",
       "      <td>DSL<\/td>\n",
       "      <td>Yes<\/td>\n",
       "      <td>No<\/td>\n",
       "      <td>Yes<\/td>\n",
       "      <td>No<\/td>\n",
       "      <td>No<\/td>\n",
       "      <td>No<\/td>\n",
       "      <td>One year<\/td>\n",
       "      <td>No<\/td>\n",
       "      <td>Mailed check<\/td>\n",
       "      <td>56.95<\/td>\n",
       "      <td>1889.50<\/td>\n",
       "      <td>No<\/td>\n",
       "    <\/tr>\n",
       "    <tr>\n",
       "      <th>2<\/th>\n",
       "      <td>Male<\/td>\n",
       "      <td>0<\/td>\n",
       "      <td>No<\/td>\n",
       "      <td>No<\/td>\n",
       "      <td>2<\/td>\n",
       "      <td>Yes<\/td>\n",
       "      <td>No<\/td>\n",
       "      <td>DSL<\/td>\n",
       "      <td>Yes<\/td>\n",
       "      <td>Yes<\/td>\n",
       "      <td>No<\/td>\n",
       "      <td>No<\/td>\n",
       "      <td>No<\/td>\n",
       "      <td>No<\/td>\n",
       "      <td>Month-to-month<\/td>\n",
       "      <td>Yes<\/td>\n",
       "      <td>Mailed check<\/td>\n",
       "      <td>53.85<\/td>\n",
       "      <td>108.15<\/td>\n",
       "      <td>Yes<\/td>\n",
       "    <\/tr>\n",
       "    <tr>\n",
       "      <th>3<\/th>\n",
       "      <td>Male<\/td>\n",
       "      <td>0<\/td>\n",
       "      <td>No<\/td>\n",
       "      <td>No<\/td>\n",
       "      <td>45<\/td>\n",
       "      <td>No<\/td>\n",
       "      <td>No phone service<\/td>\n",
       "      <td>DSL<\/td>\n",
       "      <td>Yes<\/td>\n",
       "      <td>No<\/td>\n",
       "      <td>Yes<\/td>\n",
       "      <td>Yes<\/td>\n",
       "      <td>No<\/td>\n",
       "      <td>No<\/td>\n",
       "      <td>One year<\/td>\n",
       "      <td>No<\/td>\n",
       "      <td>Bank transfer (automatic)<\/td>\n",
       "      <td>42.30<\/td>\n",
       "      <td>1840.75<\/td>\n",
       "      <td>No<\/td>\n",
       "    <\/tr>\n",
       "    <tr>\n",
       "      <th>4<\/th>\n",
       "      <td>Female<\/td>\n",
       "      <td>0<\/td>\n",
       "      <td>No<\/td>\n",
       "      <td>No<\/td>\n",
       "      <td>2<\/td>\n",
       "      <td>Yes<\/td>\n",
       "      <td>No<\/td>\n",
       "      <td>Fiber optic<\/td>\n",
       "      <td>No<\/td>\n",
       "      <td>No<\/td>\n",
       "      <td>No<\/td>\n",
       "      <td>No<\/td>\n",
       "      <td>No<\/td>\n",
       "      <td>No<\/td>\n",
       "      <td>Month-to-month<\/td>\n",
       "      <td>Yes<\/td>\n",
       "      <td>Electronic check<\/td>\n",
       "      <td>70.70<\/td>\n",
       "      <td>151.65<\/td>\n",
       "      <td>Yes<\/td>\n",
       "    <\/tr>\n",
       "  <\/tbody>\n",
       "<\/table>\n",
       "<\/div>"
      ]
     },
     "metadata":{
      
     },
     "output_type":"display_data"
    }
   ],
   "metadata":{
    "datalore":{
     "type":"CODE",
     "hide_input_from_viewers":false,
     "hide_output_from_viewers":false
    }
   }
  },
  {
   "cell_type":"code",
   "source":[
    "df2=dataset #To store the data in another variable\n",
    "\n",
    "df2 = dataset.iloc[:,1:]\n",
    "#Convertin the predictor variable in a binary numeric variable\n",
    "df2['Churn'].replace(to_replace='Yes', value=1, inplace=True)\n",
    "df2['Churn'].replace(to_replace='No',  value=0, inplace=True)\n",
    "\n",
    "#Let's convert all the categorical variables into dummy variables\n",
    "df_dummies = pd.get_dummies(df2)\n",
    "df_dummies.head(100)  "
   ],
   "execution_count":72,
   "outputs":[
    {
     "data":{
      "text\/html":[
       "<div>\n",
       "<style scoped>\n",
       "    .dataframe tbody tr th:only-of-type {\n",
       "        vertical-align: middle;\n",
       "    }\n",
       "\n",
       "    .dataframe tbody tr th {\n",
       "        vertical-align: top;\n",
       "    }\n",
       "\n",
       "    .dataframe thead th {\n",
       "        text-align: right;\n",
       "    }\n",
       "<\/style>\n",
       "<table border=\"1\" class=\"dataframe\">\n",
       "  <thead>\n",
       "    <tr style=\"text-align: right;\">\n",
       "      <th><\/th>\n",
       "      <th>SeniorCitizen<\/th>\n",
       "      <th>tenure<\/th>\n",
       "      <th>MonthlyCharges<\/th>\n",
       "      <th>TotalCharges<\/th>\n",
       "      <th>Churn<\/th>\n",
       "      <th>Partner_No<\/th>\n",
       "      <th>Partner_Yes<\/th>\n",
       "      <th>Dependents_No<\/th>\n",
       "      <th>Dependents_Yes<\/th>\n",
       "      <th>PhoneService_No<\/th>\n",
       "      <th>...<\/th>\n",
       "      <th>StreamingMovies_Yes<\/th>\n",
       "      <th>Contract_Month-to-month<\/th>\n",
       "      <th>Contract_One year<\/th>\n",
       "      <th>Contract_Two year<\/th>\n",
       "      <th>PaperlessBilling_No<\/th>\n",
       "      <th>PaperlessBilling_Yes<\/th>\n",
       "      <th>PaymentMethod_Bank transfer (automatic)<\/th>\n",
       "      <th>PaymentMethod_Credit card (automatic)<\/th>\n",
       "      <th>PaymentMethod_Electronic check<\/th>\n",
       "      <th>PaymentMethod_Mailed check<\/th>\n",
       "    <\/tr>\n",
       "  <\/thead>\n",
       "  <tbody>\n",
       "    <tr>\n",
       "      <th>0<\/th>\n",
       "      <td>0<\/td>\n",
       "      <td>1<\/td>\n",
       "      <td>29.85<\/td>\n",
       "      <td>29.85<\/td>\n",
       "      <td>0<\/td>\n",
       "      <td>0<\/td>\n",
       "      <td>1<\/td>\n",
       "      <td>1<\/td>\n",
       "      <td>0<\/td>\n",
       "      <td>1<\/td>\n",
       "      <td>...<\/td>\n",
       "      <td>0<\/td>\n",
       "      <td>1<\/td>\n",
       "      <td>0<\/td>\n",
       "      <td>0<\/td>\n",
       "      <td>0<\/td>\n",
       "      <td>1<\/td>\n",
       "      <td>0<\/td>\n",
       "      <td>0<\/td>\n",
       "      <td>1<\/td>\n",
       "      <td>0<\/td>\n",
       "    <\/tr>\n",
       "    <tr>\n",
       "      <th>1<\/th>\n",
       "      <td>0<\/td>\n",
       "      <td>34<\/td>\n",
       "      <td>56.95<\/td>\n",
       "      <td>1889.50<\/td>\n",
       "      <td>0<\/td>\n",
       "      <td>1<\/td>\n",
       "      <td>0<\/td>\n",
       "      <td>1<\/td>\n",
       "      <td>0<\/td>\n",
       "      <td>0<\/td>\n",
       "      <td>...<\/td>\n",
       "      <td>0<\/td>\n",
       "      <td>0<\/td>\n",
       "      <td>1<\/td>\n",
       "      <td>0<\/td>\n",
       "      <td>1<\/td>\n",
       "      <td>0<\/td>\n",
       "      <td>0<\/td>\n",
       "      <td>0<\/td>\n",
       "      <td>0<\/td>\n",
       "      <td>1<\/td>\n",
       "    <\/tr>\n",
       "    <tr>\n",
       "      <th>2<\/th>\n",
       "      <td>0<\/td>\n",
       "      <td>2<\/td>\n",
       "      <td>53.85<\/td>\n",
       "      <td>108.15<\/td>\n",
       "      <td>1<\/td>\n",
       "      <td>1<\/td>\n",
       "      <td>0<\/td>\n",
       "      <td>1<\/td>\n",
       "      <td>0<\/td>\n",
       "      <td>0<\/td>\n",
       "      <td>...<\/td>\n",
       "      <td>0<\/td>\n",
       "      <td>1<\/td>\n",
       "      <td>0<\/td>\n",
       "      <td>0<\/td>\n",
       "      <td>0<\/td>\n",
       "      <td>1<\/td>\n",
       "      <td>0<\/td>\n",
       "      <td>0<\/td>\n",
       "      <td>0<\/td>\n",
       "      <td>1<\/td>\n",
       "    <\/tr>\n",
       "    <tr>\n",
       "      <th>3<\/th>\n",
       "      <td>0<\/td>\n",
       "      <td>45<\/td>\n",
       "      <td>42.30<\/td>\n",
       "      <td>1840.75<\/td>\n",
       "      <td>0<\/td>\n",
       "      <td>1<\/td>\n",
       "      <td>0<\/td>\n",
       "      <td>1<\/td>\n",
       "      <td>0<\/td>\n",
       "      <td>1<\/td>\n",
       "      <td>...<\/td>\n",
       "      <td>0<\/td>\n",
       "      <td>0<\/td>\n",
       "      <td>1<\/td>\n",
       "      <td>0<\/td>\n",
       "      <td>1<\/td>\n",
       "      <td>0<\/td>\n",
       "      <td>1<\/td>\n",
       "      <td>0<\/td>\n",
       "      <td>0<\/td>\n",
       "      <td>0<\/td>\n",
       "    <\/tr>\n",
       "    <tr>\n",
       "      <th>4<\/th>\n",
       "      <td>0<\/td>\n",
       "      <td>2<\/td>\n",
       "      <td>70.70<\/td>\n",
       "      <td>151.65<\/td>\n",
       "      <td>1<\/td>\n",
       "      <td>1<\/td>\n",
       "      <td>0<\/td>\n",
       "      <td>1<\/td>\n",
       "      <td>0<\/td>\n",
       "      <td>0<\/td>\n",
       "      <td>...<\/td>\n",
       "      <td>0<\/td>\n",
       "      <td>1<\/td>\n",
       "      <td>0<\/td>\n",
       "      <td>0<\/td>\n",
       "      <td>0<\/td>\n",
       "      <td>1<\/td>\n",
       "      <td>0<\/td>\n",
       "      <td>0<\/td>\n",
       "      <td>1<\/td>\n",
       "      <td>0<\/td>\n",
       "    <\/tr>\n",
       "    <tr>\n",
       "      <th>...<\/th>\n",
       "      <td>...<\/td>\n",
       "      <td>...<\/td>\n",
       "      <td>...<\/td>\n",
       "      <td>...<\/td>\n",
       "      <td>...<\/td>\n",
       "      <td>...<\/td>\n",
       "      <td>...<\/td>\n",
       "      <td>...<\/td>\n",
       "      <td>...<\/td>\n",
       "      <td>...<\/td>\n",
       "      <td>...<\/td>\n",
       "      <td>...<\/td>\n",
       "      <td>...<\/td>\n",
       "      <td>...<\/td>\n",
       "      <td>...<\/td>\n",
       "      <td>...<\/td>\n",
       "      <td>...<\/td>\n",
       "      <td>...<\/td>\n",
       "      <td>...<\/td>\n",
       "      <td>...<\/td>\n",
       "      <td>...<\/td>\n",
       "    <\/tr>\n",
       "    <tr>\n",
       "      <th>95<\/th>\n",
       "      <td>0<\/td>\n",
       "      <td>12<\/td>\n",
       "      <td>78.95<\/td>\n",
       "      <td>927.35<\/td>\n",
       "      <td>1<\/td>\n",
       "      <td>1<\/td>\n",
       "      <td>0<\/td>\n",
       "      <td>1<\/td>\n",
       "      <td>0<\/td>\n",
       "      <td>0<\/td>\n",
       "      <td>...<\/td>\n",
       "      <td>0<\/td>\n",
       "      <td>1<\/td>\n",
       "      <td>0<\/td>\n",
       "      <td>0<\/td>\n",
       "      <td>0<\/td>\n",
       "      <td>1<\/td>\n",
       "      <td>0<\/td>\n",
       "      <td>0<\/td>\n",
       "      <td>1<\/td>\n",
       "      <td>0<\/td>\n",
       "    <\/tr>\n",
       "    <tr>\n",
       "      <th>96<\/th>\n",
       "      <td>0<\/td>\n",
       "      <td>71<\/td>\n",
       "      <td>66.85<\/td>\n",
       "      <td>4748.70<\/td>\n",
       "      <td>0<\/td>\n",
       "      <td>0<\/td>\n",
       "      <td>1<\/td>\n",
       "      <td>0<\/td>\n",
       "      <td>1<\/td>\n",
       "      <td>0<\/td>\n",
       "      <td>...<\/td>\n",
       "      <td>0<\/td>\n",
       "      <td>0<\/td>\n",
       "      <td>1<\/td>\n",
       "      <td>0<\/td>\n",
       "      <td>0<\/td>\n",
       "      <td>1<\/td>\n",
       "      <td>0<\/td>\n",
       "      <td>1<\/td>\n",
       "      <td>0<\/td>\n",
       "      <td>0<\/td>\n",
       "    <\/tr>\n",
       "    <tr>\n",
       "      <th>97<\/th>\n",
       "      <td>0<\/td>\n",
       "      <td>5<\/td>\n",
       "      <td>21.05<\/td>\n",
       "      <td>113.85<\/td>\n",
       "      <td>1<\/td>\n",
       "      <td>1<\/td>\n",
       "      <td>0<\/td>\n",
       "      <td>1<\/td>\n",
       "      <td>0<\/td>\n",
       "      <td>0<\/td>\n",
       "      <td>...<\/td>\n",
       "      <td>0<\/td>\n",
       "      <td>1<\/td>\n",
       "      <td>0<\/td>\n",
       "      <td>0<\/td>\n",
       "      <td>1<\/td>\n",
       "      <td>0<\/td>\n",
       "      <td>0<\/td>\n",
       "      <td>0<\/td>\n",
       "      <td>0<\/td>\n",
       "      <td>1<\/td>\n",
       "    <\/tr>\n",
       "    <tr>\n",
       "      <th>98<\/th>\n",
       "      <td>0<\/td>\n",
       "      <td>52<\/td>\n",
       "      <td>21.00<\/td>\n",
       "      <td>1107.20<\/td>\n",
       "      <td>0<\/td>\n",
       "      <td>1<\/td>\n",
       "      <td>0<\/td>\n",
       "      <td>1<\/td>\n",
       "      <td>0<\/td>\n",
       "      <td>0<\/td>\n",
       "      <td>...<\/td>\n",
       "      <td>0<\/td>\n",
       "      <td>0<\/td>\n",
       "      <td>0<\/td>\n",
       "      <td>1<\/td>\n",
       "      <td>1<\/td>\n",
       "      <td>0<\/td>\n",
       "      <td>1<\/td>\n",
       "      <td>0<\/td>\n",
       "      <td>0<\/td>\n",
       "      <td>0<\/td>\n",
       "    <\/tr>\n",
       "    <tr>\n",
       "      <th>99<\/th>\n",
       "      <td>1<\/td>\n",
       "      <td>25<\/td>\n",
       "      <td>98.50<\/td>\n",
       "      <td>2514.50<\/td>\n",
       "      <td>1<\/td>\n",
       "      <td>0<\/td>\n",
       "      <td>1<\/td>\n",
       "      <td>1<\/td>\n",
       "      <td>0<\/td>\n",
       "      <td>0<\/td>\n",
       "      <td>...<\/td>\n",
       "      <td>1<\/td>\n",
       "      <td>1<\/td>\n",
       "      <td>0<\/td>\n",
       "      <td>0<\/td>\n",
       "      <td>0<\/td>\n",
       "      <td>1<\/td>\n",
       "      <td>0<\/td>\n",
       "      <td>0<\/td>\n",
       "      <td>1<\/td>\n",
       "      <td>0<\/td>\n",
       "    <\/tr>\n",
       "  <\/tbody>\n",
       "<\/table>\n",
       "<p>100 rows × 44 columns<\/p>\n",
       "<\/div>"
      ]
     },
     "metadata":{
      
     },
     "output_type":"display_data"
    }
   ],
   "metadata":{
    "datalore":{
     "type":"CODE",
     "hide_input_from_viewers":false,
     "hide_output_from_viewers":false
    }
   }
  },
  {
   "cell_type":"code",
   "source":[
    "dataset.describe()"
   ],
   "execution_count":73,
   "outputs":[
    {
     "data":{
      "text\/html":[
       "<div>\n",
       "<style scoped>\n",
       "    .dataframe tbody tr th:only-of-type {\n",
       "        vertical-align: middle;\n",
       "    }\n",
       "\n",
       "    .dataframe tbody tr th {\n",
       "        vertical-align: top;\n",
       "    }\n",
       "\n",
       "    .dataframe thead th {\n",
       "        text-align: right;\n",
       "    }\n",
       "<\/style>\n",
       "<table border=\"1\" class=\"dataframe\">\n",
       "  <thead>\n",
       "    <tr style=\"text-align: right;\">\n",
       "      <th><\/th>\n",
       "      <th>SeniorCitizen<\/th>\n",
       "      <th>tenure<\/th>\n",
       "      <th>MonthlyCharges<\/th>\n",
       "      <th>TotalCharges<\/th>\n",
       "    <\/tr>\n",
       "  <\/thead>\n",
       "  <tbody>\n",
       "    <tr>\n",
       "      <th>count<\/th>\n",
       "      <td>7043.000000<\/td>\n",
       "      <td>7043.000000<\/td>\n",
       "      <td>7043.000000<\/td>\n",
       "      <td>7043.000000<\/td>\n",
       "    <\/tr>\n",
       "    <tr>\n",
       "      <th>mean<\/th>\n",
       "      <td>0.162147<\/td>\n",
       "      <td>32.371149<\/td>\n",
       "      <td>64.761692<\/td>\n",
       "      <td>2281.916928<\/td>\n",
       "    <\/tr>\n",
       "    <tr>\n",
       "      <th>std<\/th>\n",
       "      <td>0.368612<\/td>\n",
       "      <td>24.559481<\/td>\n",
       "      <td>30.090047<\/td>\n",
       "      <td>2265.270398<\/td>\n",
       "    <\/tr>\n",
       "    <tr>\n",
       "      <th>min<\/th>\n",
       "      <td>0.000000<\/td>\n",
       "      <td>0.000000<\/td>\n",
       "      <td>18.250000<\/td>\n",
       "      <td>18.800000<\/td>\n",
       "    <\/tr>\n",
       "    <tr>\n",
       "      <th>25%<\/th>\n",
       "      <td>0.000000<\/td>\n",
       "      <td>9.000000<\/td>\n",
       "      <td>35.500000<\/td>\n",
       "      <td>402.225000<\/td>\n",
       "    <\/tr>\n",
       "    <tr>\n",
       "      <th>50%<\/th>\n",
       "      <td>0.000000<\/td>\n",
       "      <td>29.000000<\/td>\n",
       "      <td>70.350000<\/td>\n",
       "      <td>1397.475000<\/td>\n",
       "    <\/tr>\n",
       "    <tr>\n",
       "      <th>75%<\/th>\n",
       "      <td>0.000000<\/td>\n",
       "      <td>55.000000<\/td>\n",
       "      <td>89.850000<\/td>\n",
       "      <td>3786.600000<\/td>\n",
       "    <\/tr>\n",
       "    <tr>\n",
       "      <th>max<\/th>\n",
       "      <td>1.000000<\/td>\n",
       "      <td>72.000000<\/td>\n",
       "      <td>118.750000<\/td>\n",
       "      <td>8684.800000<\/td>\n",
       "    <\/tr>\n",
       "  <\/tbody>\n",
       "<\/table>\n",
       "<\/div>"
      ]
     },
     "metadata":{
      
     },
     "output_type":"display_data"
    }
   ],
   "metadata":{
    "datalore":{
     "type":"CODE",
     "hide_input_from_viewers":false,
     "hide_output_from_viewers":false
    }
   }
  },
  {
   "cell_type":"markdown",
   "source":[
    "## 2.5 Identify the target variables. Separate the data front the target such that the dataset is in the form of (X,y) or (Features, Label). Discretize the target variable or perform one-hot encoding or label encoding on the target or any other as and if required.\n"
   ],
   "attachments":{
    
   },
   "metadata":{
    "datalore":{
     "type":"MD",
     "hide_input_from_viewers":false,
     "hide_output_from_viewers":false
    }
   }
  },
  {
   "cell_type":"code",
   "source":[
    "##---------Type the code below this line------------------##\n",
    "from sklearn.model_selection import train_test_split\n",
    "from sklearn.preprocessing import MinMaxScaler"
   ],
   "execution_count":74,
   "outputs":[
    
   ],
   "metadata":{
    "datalore":{
     "type":"CODE",
     "hide_input_from_viewers":false,
     "hide_output_from_viewers":false
    }
   }
  },
  {
   "cell_type":"code",
   "source":[
    "\n",
    "y = df_dummies['Churn'].values #Setting output as the last column wheather it is yes or no being Supervised\n",
    "X = df_dummies.drop(columns = ['Churn']) #Setting all column as input parameters\n",
    "\n",
    "features = X.columns.values\n",
    "scaler = MinMaxScaler(feature_range = (0,1))\n",
    "scaler.fit(X)\n",
    "X = pd.DataFrame(scaler.transform(X))\n",
    "X.columns = features\n",
    "\n",
    "X_train, X_test, y_train, y_test = train_test_split(X, y, test_size=0.3, random_state=101)"
   ],
   "execution_count":75,
   "outputs":[
    
   ],
   "metadata":{
    "datalore":{
     "type":"CODE",
     "hide_input_from_viewers":false,
     "hide_output_from_viewers":false
    }
   }
  },
  {
   "cell_type":"markdown",
   "source":[
    "# 3. Implement Machine Learning Techniques"
   ],
   "attachments":{
    
   },
   "metadata":{
    "datalore":{
     "type":"MD",
     "hide_input_from_viewers":false,
     "hide_output_from_viewers":false
    }
   }
  },
  {
   "cell_type":"code",
   "source":[
    "##---------Type the code below this line------------------##\n",
    "\n",
    "from sklearn.ensemble import RandomForestClassifier\n",
    "from sklearn.linear_model import LogisticRegression\n",
    "from sklearn import metrics\n",
    "from sklearn.metrics import confusion_matrix\n",
    "from sklearn.metrics import accuracy_score \n",
    "from sklearn.metrics import classification_report\n",
    "from sklearn.metrics import roc_auc_score\n",
    "from sklearn.metrics import roc_curve\n",
    "from sklearn.metrics import f1_score\n",
    "from sklearn.metrics import precision_score,recall_score"
   ],
   "execution_count":76,
   "outputs":[
    
   ],
   "metadata":{
    "datalore":{
     "type":"CODE",
     "hide_input_from_viewers":false,
     "hide_output_from_viewers":false
    }
   }
  },
  {
   "cell_type":"markdown",
   "source":[
    "## 3.1 ML technique 1 -- Logistic Regression Model\n"
   ],
   "attachments":{
    
   },
   "metadata":{
    "datalore":{
     "type":"MD",
     "hide_input_from_viewers":false,
     "hide_output_from_viewers":false
    }
   }
  },
  {
   "cell_type":"code",
   "source":[
    "##---------Type the code below this line------------------##\n",
    "model = LogisticRegression()\n",
    "result = model.fit(X_train, y_train)"
   ],
   "execution_count":77,
   "outputs":[
    
   ],
   "metadata":{
    "datalore":{
     "type":"CODE",
     "hide_input_from_viewers":false,
     "hide_output_from_viewers":false
    }
   }
  },
  {
   "cell_type":"code",
   "source":[
    "prediction_test = model.predict(X_test)\n",
    "probabilities = model.predict_proba(X_test)\n",
    "# Print the prediction accuracy\n",
    "print (metrics.accuracy_score(y_test, prediction_test))"
   ],
   "execution_count":78,
   "outputs":[
    {
     "name":"stdout",
     "text":[
      "0.8050165641268339\n"
     ],
     "output_type":"stream"
    }
   ],
   "metadata":{
    "datalore":{
     "type":"CODE",
     "hide_input_from_viewers":false,
     "hide_output_from_viewers":false
    }
   }
  },
  {
   "cell_type":"code",
   "source":[
    "print(classification_report(y_test, prediction_test))"
   ],
   "execution_count":79,
   "outputs":[
    {
     "name":"stdout",
     "text":[
      "              precision    recall  f1-score   support\n",
      "\n",
      "           0       0.84      0.90      0.87      1546\n",
      "           1       0.67      0.53      0.59       567\n",
      "\n",
      "    accuracy                           0.81      2113\n",
      "   macro avg       0.76      0.72      0.73      2113\n",
      "weighted avg       0.80      0.81      0.80      2113\n",
      "\n"
     ],
     "output_type":"stream"
    }
   ],
   "metadata":{
    "datalore":{
     "type":"CODE",
     "hide_input_from_viewers":false,
     "hide_output_from_viewers":false
    }
   }
  },
  {
   "cell_type":"code",
   "source":[
    "#confusion matrix\n",
    "conf_matrix = confusion_matrix(y_test,\n",
    "                               prediction_test\n",
    "                              )\n",
    "#roc_auc_score\n",
    "model_roc_auc = roc_auc_score(y_test,prediction_test)\n",
    "print (\"Area under curve : \",\n",
    "       model_roc_auc,\n",
    "       \"\\n\"\n",
    "      )\n",
    "\n",
    "logit_roc = roc_auc_score(y_test,prediction_test)\n",
    "\n",
    "fpr,tpr,thresholds = roc_curve(y_test,\n",
    "                               probabilities[:,1])\n",
    "\n",
    "\n",
    "#plot confusion matrix\n",
    "fig, ax = plt.subplots(figsize=(7,6))\n",
    "trace1 = sns.heatmap(data = conf_matrix ,\n",
    "                        xticklabels = [\"Stay\",\"Churn\"],\n",
    "                        yticklabels = [\"Stay\",\"Churn\"],\n",
    "                        cmap = \"Blues\"\n",
    "                    )\n",
    "plt.title('Confusion Matrix');\n",
    "plt.show()"
   ],
   "execution_count":80,
   "outputs":[
    {
     "name":"stdout",
     "text":[
      "Area under curve :  0.7187718889961235 \n",
      "\n"
     ],
     "output_type":"stream"
    },
    {
     "data":{
      "image\/png":"[encoded data removed]"
     },
     "metadata":{
      "image\/png":{
       
      }
     },
     "output_type":"display_data"
    }
   ],
   "metadata":{
    "datalore":{
     "type":"CODE",
     "hide_input_from_viewers":false,
     "hide_output_from_viewers":false
    }
   }
  },
  {
   "cell_type":"markdown",
   "source":[
    "## 3.2 ML technique 2. -- Random Forest"
   ],
   "attachments":{
    
   },
   "metadata":{
    "datalore":{
     "type":"MD",
     "hide_input_from_viewers":false,
     "hide_output_from_viewers":false
    }
   }
  },
  {
   "cell_type":"code",
   "source":[
    "##---------Type the code below this line------------------##\n",
    "random_forest = RandomForestClassifier(criterion = \"entropy\", \n",
    "                                       min_samples_leaf = 1, \n",
    "                                       min_samples_split = 10,   \n",
    "                                       n_estimators=100, \n",
    "                                       max_features='auto', \n",
    "                                       oob_score=True, \n",
    "                                       random_state=1, \n",
    "                                       n_jobs=-1)\n",
    "\n",
    "random_forest.fit(X_train, y_train)\n",
    "y_pred = random_forest.predict(X_test)\n",
    "random_forest.score(X_train, y_train)\n",
    "print(\"Score: \", round(random_forest.oob_score_, 4)*100, \"%\")"
   ],
   "execution_count":81,
   "outputs":[
    {
     "name":"stdout",
     "text":[
      "Score:  79.74 %\n"
     ],
     "output_type":"stream"
    }
   ],
   "metadata":{
    "datalore":{
     "type":"CODE",
     "hide_input_from_viewers":false,
     "hide_output_from_viewers":false
    }
   }
  },
  {
   "cell_type":"code",
   "source":[
    "#To find important Features\n",
    "params = {'random_state': 0, 'n_jobs': 4, 'n_estimators': 5000, 'max_depth': 8}\n",
    "# One-hot encode\n",
    "df = pd.get_dummies(dataset)\n",
    "# Drop redundant columns (for features with two unique values)\n",
    "drop = ['Churn_Yes', 'Churn_No', 'gender_Female', 'Partner_No',\n",
    "        'Dependents_No', 'PhoneService_No', 'PaperlessBilling_No']\n",
    "x, y = df.drop(drop,axis=1), df['Churn_Yes']\n",
    "# Fit RandomForest Classifier\n",
    "clf = RandomForestClassifier(**params)\n",
    "clf = clf.fit(x, y)\n",
    "# Plot features importances\n",
    "imp = pd.Series(data=clf.feature_importances_, index=x.columns).sort_values(ascending=False)\n",
    "plt.figure(figsize=(10,12))\n",
    "plt.title(\"Feature importance\")\n",
    "ax = sns.barplot(y=imp.index, x=imp.values, palette=\"Blues_d\", orient='h')"
   ],
   "execution_count":82,
   "outputs":[
    {
     "data":{
      "image\/png":"[encoded data removed]"
     },
     "metadata":{
      "image\/png":{
       
      }
     },
     "output_type":"display_data"
    }
   ],
   "metadata":{
    "datalore":{
     "type":"CODE",
     "hide_input_from_viewers":false,
     "hide_output_from_viewers":false
    }
   }
  },
  {
   "cell_type":"code",
   "source":[
    "print(classification_report(y_test, y_pred))"
   ],
   "execution_count":83,
   "outputs":[
    {
     "name":"stdout",
     "text":[
      "              precision    recall  f1-score   support\n",
      "\n",
      "           0       0.82      0.92      0.87      1546\n",
      "           1       0.68      0.46      0.55       567\n",
      "\n",
      "    accuracy                           0.80      2113\n",
      "   macro avg       0.75      0.69      0.71      2113\n",
      "weighted avg       0.78      0.80      0.78      2113\n",
      "\n"
     ],
     "output_type":"stream"
    }
   ],
   "metadata":{
    "datalore":{
     "type":"CODE",
     "hide_input_from_viewers":false,
     "hide_output_from_viewers":false
    }
   }
  },
  {
   "cell_type":"markdown",
   "source":[
    "## 4. Conclude \n",
    "\n",
    "### 4.1 Compare the performance of the ML techniques used.\n",
    "\n",
    "plot accuracy or any other performance metric to compare the ML algo."
   ],
   "attachments":{
    
   },
   "metadata":{
    "datalore":{
     "type":"MD",
     "hide_input_from_viewers":false,
     "hide_output_from_viewers":false
    }
   }
  },
  {
   "cell_type":"code",
   "source":[
    "##---------Type the code below this line------------------##"
   ],
   "execution_count":84,
   "outputs":[
    
   ],
   "metadata":{
    "datalore":{
     "type":"CODE",
     "hide_input_from_viewers":false,
     "hide_output_from_viewers":false
    }
   }
  },
  {
   "cell_type":"markdown",
   "source":[
    "--------------Type the answers below this line--------------\n",
    "| Classification Algorithm | Accuracy (%) | Recall (%)| Precision (%) | F1-score (%)|\n",
    "|---|---|---|---|---|\n",
    "|Random Forest         |xx|xx|xx|xx|\n",
    "|Logistic Regression   |xx|xx|xx|xx|\n",
    "\n",
    "From the results its clear that **Random Forest algorithm has the best accuracy, Recall, Precicion and F1-score** among the other algorithms.\n",
    "\n",
    "\n",
    "\n",
    "So from the above techniques used we can conclude that Linear regression is better than Random forest as it shows the accuracy of 80.xyz% on contrast of random forest that shows 79.xx % "
   ],
   "attachments":{
    
   },
   "metadata":{
    "datalore":{
     "type":"MD",
     "hide_input_from_viewers":false,
     "hide_output_from_viewers":false
    }
   }
  },
  {
   "cell_type":"code",
   "source":[
    
   ],
   "execution_count":null,
   "outputs":[
    
   ],
   "metadata":{
    "datalore":{
     "type":"CODE",
     "hide_input_from_viewers":false,
     "hide_output_from_viewers":false
    }
   }
  }
 ],
 "metadata":{
  "datalore":{
   "version":1,
   "computation_mode":"JUPYTER",
   "package_manager":"pip",
   "base_environment":"default",
   "packages":[
    
   ]
  }
 },
 "nbformat":4,
 "nbformat_minor":4
}